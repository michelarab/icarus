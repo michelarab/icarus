{
  "cells": [
    {
      "cell_type": "code",
      "source": [
        "!pip install birdnet\n",
        "!pip install -U librosa\n",
        "!git clone https://github.com/kahst/BirdNET-Analyzer.git"
      ],
      "metadata": {
        "id": "4F0f0r4y4GoJ"
      },
      "execution_count": null,
      "outputs": []
    },
    {
      "cell_type": "code",
      "source": [
        "import sys\n",
        "sys.path.append('/content/BirdNET-Analyzer')\n",
        "\n",
        "import argparse\n",
        "import multiprocessing\n",
        "import os\n",
        "from functools import partial\n",
        "from multiprocessing.pool import Pool\n",
        "\n",
        "import numpy as np\n",
        "import tqdm\n",
        "\n",
        "import birdnet_analyzer.analyze as analyze\n",
        "import birdnet_analyzer.audio as audio\n",
        "import birdnet_analyzer.config as cfg\n",
        "import birdnet_analyzer.model as model\n",
        "import birdnet_analyzer.utils as utils"
      ],
      "metadata": {
        "id": "F8leZIikAYET"
      },
      "execution_count": null,
      "outputs": []
    },
    {
      "cell_type": "code",
      "source": [
        "def get_embeddings(fpath):\n",
        "    offset = 0\n",
        "    duration = cfg.FILE_SPLITTING_DURATION\n",
        "    fileLengthSeconds = int(audio.getAudioFileLength(fpath, cfg.SAMPLE_RATE))\n",
        "    results = []\n",
        "\n",
        "    # Process each chunk\n",
        "    try:\n",
        "        while offset < fileLengthSeconds:\n",
        "            chunks = analyze.getRawAudioFromFile(fpath, offset, duration)\n",
        "            start, end = offset, cfg.SIG_LENGTH + offset\n",
        "            samples = []\n",
        "            timestamps = []\n",
        "\n",
        "            for c in range(len(chunks)):\n",
        "                # Add to batch\n",
        "                samples.append(chunks[c])\n",
        "                timestamps.append([start, end])\n",
        "\n",
        "                # Advance start and end\n",
        "                start += cfg.SIG_LENGTH - cfg.SIG_OVERLAP\n",
        "                end = start + cfg.SIG_LENGTH\n",
        "\n",
        "                # Check if batch is full or last chunk\n",
        "                if len(samples) < cfg.BATCH_SIZE and c < len(chunks) - 1:\n",
        "                    continue\n",
        "\n",
        "                # Prepare sample and pass through model\n",
        "                data = np.array(samples, dtype=\"float32\")\n",
        "                e = model.embeddings(data)\n",
        "\n",
        "                # Add to results\n",
        "                for i in range(len(samples)):\n",
        "                    # Get timestamp\n",
        "                    s_start, s_end = timestamps[i]\n",
        "\n",
        "                    # Get prediction\n",
        "                    embeddings = e[i]\n",
        "\n",
        "                    # Store embeddings\n",
        "                    results.append(embeddings)\n",
        "\n",
        "                # Reset batch\n",
        "                samples = []\n",
        "                timestamps = []\n",
        "\n",
        "            offset = offset + duration\n",
        "\n",
        "    except Exception as ex:\n",
        "        # Write error log\n",
        "        print(f\"Error: Cannot analyze audio file {fpath}.\", flush=True)\n",
        "        utils.writeErrorLog(ex)\n",
        "\n",
        "        return\n",
        "\n",
        "    return results"
      ],
      "metadata": {
        "id": "r6F9mmMH_pZz"
      },
      "execution_count": null,
      "outputs": []
    },
    {
      "cell_type": "code",
      "source": [
        "get_embeddings('Bird sound.wav')[0]"
      ],
      "metadata": {
        "id": "dfsSeLuJBYug",
        "outputId": "3f57542d-1a10-4442-cfa0-c3277b31136e",
        "colab": {
          "base_uri": "https://localhost:8080/"
        }
      },
      "execution_count": null,
      "outputs": [
        {
          "output_type": "execute_result",
          "data": {
            "text/plain": [
              "(1024,)"
            ]
          },
          "metadata": {},
          "execution_count": 33
        }
      ]
    }
  ],
  "metadata": {
    "colab": {
      "provenance": []
    },
    "kernelspec": {
      "display_name": "Python 3",
      "name": "python3"
    }
  },
  "nbformat": 4,
  "nbformat_minor": 0
}